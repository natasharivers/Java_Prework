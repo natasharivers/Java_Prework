{
 "cells": [
  {
   "cell_type": "markdown",
   "metadata": {},
   "source": [
    "# Section 2: Working with Variables"
   ]
  },
  {
   "cell_type": "markdown",
   "metadata": {},
   "source": [
    "<hr style=\"border:1px solid black\"> </hr>"
   ]
  },
  {
   "cell_type": "markdown",
   "metadata": {},
   "source": [
    "## Variables: \n",
    "- refer to something that can change\n",
    "   - initiated with a value\n",
    "   - value can be changed\n",
    "   - holds a specific type of data"
   ]
  },
  {
   "cell_type": "markdown",
   "metadata": {},
   "source": [
    "## Variable Types:\n",
    "   - **String**\n",
    "       - characters only\n",
    "       - case sensative\n",
    "       - (ex): \"Hello\"\n",
    "       - **default value**: String:\"\"(empty string)\n",
    "\n",
    "<br>\n",
    "\n",
    "   - **int** \n",
    "       - whole number\n",
    "       - positive or negative\n",
    "       - (ex): 1, 0, 100, -10\n",
    "       - **default value**: int:0\n",
    "       \n",
    "<br>\n",
    "\n",
    "   - **double** \n",
    "       - decimal number\n",
    "       - positive or negative\n",
    "       - (ex): 3.5, -1.2, 0.99\n",
    "       - **default value**: double:0.0\n",
    "       \n",
    "<br>\n",
    "\n",
    "   - **boolean**\n",
    "       - one of two values\n",
    "       - (ex): True or False\n",
    "       - **default value**: boolean:false\n",
    "       "
   ]
  },
  {
   "cell_type": "markdown",
   "metadata": {},
   "source": [
    "## Guidelines:\n",
    "   - case sensative\n",
    "   - **MUST** assign variable type but do not need to assign default value\n",
    "   - must using \"camal casing\" where first word is lower cased and subsequent words are capitalized\n",
    "       - (ex): myVariable\n",
    "       - (ex): outOfStock\n",
    "   - names cannot have spaces between words"
   ]
  },
  {
   "cell_type": "markdown",
   "metadata": {},
   "source": [
    "---"
   ]
  },
  {
   "cell_type": "markdown",
   "metadata": {},
   "source": [
    "## Overview of String Variables"
   ]
  },
  {
   "cell_type": "markdown",
   "metadata": {},
   "source": [
    "**String Variable**:\n",
    "   - variables that contain alpha numeric text and data\n",
    "   - Concatination: can \"add\" Strings together by using the \"+\" operator\n"
   ]
  },
  {
   "cell_type": "markdown",
   "metadata": {},
   "source": [
    "**Syntax**:\n",
    "   - type identifier [= value];"
   ]
  },
  {
   "cell_type": "markdown",
   "metadata": {},
   "source": [
    "**Examples of Strings**\n",
    "- String customer;\n",
    "- String name, city;\n",
    "- String address = \"123 Oak St\"\n",
    "- String county = \"USA\", state = \"CO\""
   ]
  },
  {
   "cell_type": "markdown",
   "metadata": {},
   "source": [
    "- **Example of Concatination**: \n",
    "    - String greet1 = \"Hello\";\n",
    "    - String greet2 = \"World\";\n",
    "    - String message = greet1 + \"\" + greet2 + \"!\""
   ]
  },
  {
   "cell_type": "markdown",
   "metadata": {},
   "source": [
    "**print line message**\n",
    "- System.out.println(message);\n",
    "<br>\n",
    "    **OR**\n",
    "- System.out.println(greet1 + \"\" + greet2 + \"!\");"
   ]
  },
  {
   "cell_type": "markdown",
   "metadata": {},
   "source": [
    "---"
   ]
  },
  {
   "cell_type": "markdown",
   "metadata": {},
   "source": [
    "## Intro to NetBeans IDE\n",
    "- **IDE**: Integrated Deveopment Environment\n",
    "    - type of software that makes it easier to develop applications\n",
    "    - enables organization for all Java resouces and environments into a Project\n",
    "    \n",
    "<br>\n",
    "\n",
    "- IDEs provide:\n",
    "    - syntax checking\n",
    "    - various automation feature \n",
    "    - runtime environment for testing\n",
    "\n",
    "<br>\n",
    "\n",
    "- Common IDEs for Java\n",
    "    - NetBeans\n",
    "    - Eclipse\n",
    "    - Jdeveloper"
   ]
  },
  {
   "cell_type": "markdown",
   "metadata": {},
   "source": [
    "---"
   ]
  },
  {
   "cell_type": "markdown",
   "metadata": {},
   "source": [
    "## Using string variables"
   ]
  },
  {
   "cell_type": "code",
   "execution_count": null,
   "metadata": {},
   "outputs": [],
   "source": []
  }
 ],
 "metadata": {
  "kernelspec": {
   "display_name": "Python 3",
   "language": "python",
   "name": "python3"
  },
  "language_info": {
   "codemirror_mode": {
    "name": "ipython",
    "version": 3
   },
   "file_extension": ".py",
   "mimetype": "text/x-python",
   "name": "python",
   "nbconvert_exporter": "python",
   "pygments_lexer": "ipython3",
   "version": "3.8.5"
  }
 },
 "nbformat": 4,
 "nbformat_minor": 4
}
