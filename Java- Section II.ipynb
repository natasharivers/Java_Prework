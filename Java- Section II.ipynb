{
 "cells": [
  {
   "cell_type": "markdown",
   "metadata": {},
   "source": [
    "# Section 2: Working with Variables"
   ]
  },
  {
   "cell_type": "markdown",
   "metadata": {},
   "source": [
    "<hr style=\"border:1px solid black\"> </hr>"
   ]
  },
  {
   "cell_type": "markdown",
   "metadata": {},
   "source": [
    "## Variables: \n",
    "refer to something that can change\n",
    "   - initiated with a value\n",
    "   - value can be changed\n",
    "   - holds a specific type of data\n",
    "\n",
    "   \n",
    "<br>\n",
    "\n",
    "\n",
    "<br>\n",
    "\n"
   ]
  },
  {
   "cell_type": "markdown",
   "metadata": {},
   "source": [
    "## Variable Types:\n",
    "   - **String**\n",
    "       - characters only\n",
    "       - case sensative\n",
    "       - (ex): \"Hello\"\n",
    "       - **default value**: String:\"\"(empty string)\n",
    "\n",
    "<br>\n",
    "\n",
    "   - **int** \n",
    "       - whole number\n",
    "       - positive or negative\n",
    "       - (ex): 1, 0, 100, -10\n",
    "       - **default value**: int:0\n",
    "       \n",
    "<br>\n",
    "\n",
    "   - **double** \n",
    "       - decimal number\n",
    "       - positive or negative\n",
    "       - (ex): 3.5, -1.2, 0.99\n",
    "       - **default value**: double:0.0\n",
    "       \n",
    "<br>\n",
    "\n",
    "   - **boolean**\n",
    "       - one of two values\n",
    "       - (ex): True or False\n",
    "       - **default value**: boolean:false\n",
    "       "
   ]
  },
  {
   "cell_type": "code",
   "execution_count": null,
   "metadata": {},
   "outputs": [],
   "source": [
    "## Guidelines:\n",
    "   - case sensative\n",
    "   - **MUST** assign variable type but do not need to assign default value\n",
    "   - must using \"camal casing\" where first word is lower cased and subsequent words are capitalized\n",
    "       - (ex): myVariable\n",
    "       - (ex): outOfStock\n",
    "   - names cannot have spaces between words"
   ]
  }
 ],
 "metadata": {
  "kernelspec": {
   "display_name": "Python 3",
   "language": "python",
   "name": "python3"
  },
  "language_info": {
   "codemirror_mode": {
    "name": "ipython",
    "version": 3
   },
   "file_extension": ".py",
   "mimetype": "text/x-python",
   "name": "python",
   "nbconvert_exporter": "python",
   "pygments_lexer": "ipython3",
   "version": "3.8.5"
  }
 },
 "nbformat": 4,
 "nbformat_minor": 4
}
